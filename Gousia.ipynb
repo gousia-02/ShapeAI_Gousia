{
  "nbformat": 4,
  "nbformat_minor": 0,
  "metadata": {
    "colab": {
      "name": "Gousia.ipynb",
      "provenance": []
    },
    "kernelspec": {
      "name": "python3",
      "display_name": "Python 3"
    },
    "language_info": {
      "name": "python"
    }
  },
  "cells": [
    {
      "cell_type": "code",
      "metadata": {
        "id": "MohteflBFlXh"
      },
      "source": [
        "from keras.datasets import mnist\n",
        "data = mnist.load_data()\n"
      ],
      "execution_count": 21,
      "outputs": []
    },
    {
      "cell_type": "code",
      "metadata": {
        "id": "HHwBKzFjIbVv"
      },
      "source": [
        "((X_train, y_train), (X_test, y_test))= data"
      ],
      "execution_count": 22,
      "outputs": []
    },
    {
      "cell_type": "code",
      "metadata": {
        "id": "wMbmtd4KI0EF"
      },
      "source": [
        "X_train = X_train.reshape((X_train.shape[0], 28*28)).astype('float32')\n",
        "X_test = X_test.reshape((X_test.shape[0], 28*28)).astype('float32')"
      ],
      "execution_count": 23,
      "outputs": []
    },
    {
      "cell_type": "code",
      "metadata": {
        "id": "UFiCf1QRJqdc"
      },
      "source": [
        "X_train = X_train / 255\n",
        "X_test = X_test / 255"
      ],
      "execution_count": 24,
      "outputs": []
    },
    {
      "cell_type": "code",
      "metadata": {
        "colab": {
          "base_uri": "https://localhost:8080/"
        },
        "id": "DOPl8N14KweW",
        "outputId": "d9cbfa78-20d2-4dc1-d5b1-d87de7ad8923"
      },
      "source": [
        "from keras.utils import np_utils\n",
        "print(y_test.shape)\n",
        "y_train = np_utils.to_categorical(y_train)\n",
        "y_test = np_utils.to_categorical(y_test)\n",
        "num_classes = y_test.shape[1]\n",
        "print(y_test.shape)"
      ],
      "execution_count": 25,
      "outputs": [
        {
          "output_type": "stream",
          "text": [
            "(10000,)\n",
            "(10000, 10)\n"
          ],
          "name": "stdout"
        }
      ]
    },
    {
      "cell_type": "code",
      "metadata": {
        "id": "v7ZK1qALLs3y"
      },
      "source": [
        "from keras.models import Sequential\n",
        "from keras.layers import Dense"
      ],
      "execution_count": 26,
      "outputs": []
    },
    {
      "cell_type": "code",
      "metadata": {
        "id": "yqn3h_9GL7Fv"
      },
      "source": [
        "model = Sequential()\n",
        "model.add(Dense(32, input_dim = 28*28, activation='relu'))\n",
        "model.add(Dense(64, activation='relu'))\n",
        "model.add(Dense(10, activation='softmax'))"
      ],
      "execution_count": 27,
      "outputs": []
    },
    {
      "cell_type": "code",
      "metadata": {
        "id": "IPCoWEAZMsTy"
      },
      "source": [
        "model.compile(loss='categorical_crossentropy',optimizer='adam',metrics=['accuracy'])"
      ],
      "execution_count": 28,
      "outputs": []
    },
    {
      "cell_type": "code",
      "metadata": {
        "colab": {
          "base_uri": "https://localhost:8080/"
        },
        "id": "13JbLwHjNWCh",
        "outputId": "44ec2e25-58d8-4339-ead7-55fa01da92e8"
      },
      "source": [
        "model.summary()"
      ],
      "execution_count": 29,
      "outputs": [
        {
          "output_type": "stream",
          "text": [
            "Model: \"sequential_1\"\n",
            "_________________________________________________________________\n",
            "Layer (type)                 Output Shape              Param #   \n",
            "=================================================================\n",
            "dense_3 (Dense)              (None, 32)                25120     \n",
            "_________________________________________________________________\n",
            "dense_4 (Dense)              (None, 64)                2112      \n",
            "_________________________________________________________________\n",
            "dense_5 (Dense)              (None, 10)                650       \n",
            "=================================================================\n",
            "Total params: 27,882\n",
            "Trainable params: 27,882\n",
            "Non-trainable params: 0\n",
            "_________________________________________________________________\n"
          ],
          "name": "stdout"
        }
      ]
    },
    {
      "cell_type": "code",
      "metadata": {
        "colab": {
          "base_uri": "https://localhost:8080/"
        },
        "id": "zzHk05ayNc5x",
        "outputId": "1a9c9708-1630-43e4-e44e-2c60d0fe4b39"
      },
      "source": [
        "model.fit(X_train, y_train, validation_split=0.2, epochs=10, batch_size=100)\n"
      ],
      "execution_count": 30,
      "outputs": [
        {
          "output_type": "stream",
          "text": [
            "Epoch 1/10\n",
            "480/480 [==============================] - 2s 4ms/step - loss: 0.8935 - accuracy: 0.7443 - val_loss: 0.2252 - val_accuracy: 0.9351\n",
            "Epoch 2/10\n",
            "480/480 [==============================] - 2s 3ms/step - loss: 0.2189 - accuracy: 0.9368 - val_loss: 0.1793 - val_accuracy: 0.9467\n",
            "Epoch 3/10\n",
            "480/480 [==============================] - 1s 3ms/step - loss: 0.1693 - accuracy: 0.9511 - val_loss: 0.1563 - val_accuracy: 0.9548\n",
            "Epoch 4/10\n",
            "480/480 [==============================] - 2s 3ms/step - loss: 0.1343 - accuracy: 0.9607 - val_loss: 0.1474 - val_accuracy: 0.9570\n",
            "Epoch 5/10\n",
            "480/480 [==============================] - 1s 3ms/step - loss: 0.1178 - accuracy: 0.9652 - val_loss: 0.1354 - val_accuracy: 0.9607\n",
            "Epoch 6/10\n",
            "480/480 [==============================] - 1s 3ms/step - loss: 0.0951 - accuracy: 0.9720 - val_loss: 0.1325 - val_accuracy: 0.9627\n",
            "Epoch 7/10\n",
            "480/480 [==============================] - 1s 3ms/step - loss: 0.0888 - accuracy: 0.9726 - val_loss: 0.1326 - val_accuracy: 0.9617\n",
            "Epoch 8/10\n",
            "480/480 [==============================] - 1s 3ms/step - loss: 0.0808 - accuracy: 0.9752 - val_loss: 0.1298 - val_accuracy: 0.9620\n",
            "Epoch 9/10\n",
            "480/480 [==============================] - 2s 3ms/step - loss: 0.0711 - accuracy: 0.9784 - val_loss: 0.1174 - val_accuracy: 0.9668\n",
            "Epoch 10/10\n",
            "480/480 [==============================] - 2s 3ms/step - loss: 0.0624 - accuracy: 0.9816 - val_loss: 0.1153 - val_accuracy: 0.9672\n"
          ],
          "name": "stdout"
        },
        {
          "output_type": "execute_result",
          "data": {
            "text/plain": [
              "<tensorflow.python.keras.callbacks.History at 0x7fe4155bb6d0>"
            ]
          },
          "metadata": {
            "tags": []
          },
          "execution_count": 30
        }
      ]
    },
    {
      "cell_type": "code",
      "metadata": {
        "colab": {
          "base_uri": "https://localhost:8080/"
        },
        "id": "H4k1xlXxOYOm",
        "outputId": "4021f5bb-099a-4cfc-c470-f5963235860b"
      },
      "source": [
        "scores = model.evaluate(X_test, y_test)\n",
        "print(scores)"
      ],
      "execution_count": 31,
      "outputs": [
        {
          "output_type": "stream",
          "text": [
            "313/313 [==============================] - 1s 2ms/step - loss: 0.1020 - accuracy: 0.9675\n",
            "[0.10204420983791351, 0.9674999713897705]\n"
          ],
          "name": "stdout"
        }
      ]
    }
  ]
}